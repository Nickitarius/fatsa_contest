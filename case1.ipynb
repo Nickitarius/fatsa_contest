{
 "cells": [
  {
   "cell_type": "code",
   "execution_count": 20,
   "metadata": {},
   "outputs": [
    {
     "ename": "SyntaxError",
     "evalue": "f-string: empty expression not allowed (951493013.py, line 18)",
     "output_type": "error",
     "traceback": [
      "\u001b[1;36m  Cell \u001b[1;32mIn [20], line 18\u001b[1;36m\u001b[0m\n\u001b[1;33m    print(f'Original GC: {}')\u001b[0m\n\u001b[1;37m                            ^\u001b[0m\n\u001b[1;31mSyntaxError\u001b[0m\u001b[1;31m:\u001b[0m f-string: empty expression not allowed\n"
     ]
    }
   ],
   "source": [
    "import Bio.Seq\n",
    "import Bio.SeqUtils as SU\n",
    "from Bio.Seq import Seq\n",
    "from Bio.SeqUtils import GC\n",
    "\n",
    "from Bio import SeqIO\n",
    "\n",
    "record_orig = \"\"\n",
    "\n",
    "with open(\"01.fasta\") as handle:\n",
    "    for record in SeqIO.parse(handle, \"fasta\"):\n",
    "        record_orig = record\n",
    "        # print(record)\n",
    "\n",
    "gc_orig = Bio.SeqUtils.gc_fraction(record_orig)\n",
    "print(f'Original record length: {record_orig.__len__()}')\n",
    "\n",
    "print(f'Original GC: {gc_orig}')\n",
    "\n",
    "current_sub = \"\"\n",
    "current_max_insertion = \"\"\n",
    "border_left = 0\n",
    "border_right = 0\n",
    "# Порог ошибки, где начинается вставка\n",
    "e = 0.05\n",
    "min_size = 1000\n",
    "step_size = 100\n",
    "\n",
    "for i in range(0, len(record_orig), step_size):\n",
    "    print(i)\n",
    "    for j in range(i+min_size, len(record_orig)+1, step_size):\n",
    "        current_sub = record_orig[i:j]\n",
    "        if (abs(gc_orig-SU.gc_fraction(current_sub)) > e):\n",
    "            if (len(current_max_insertion) < len(current_sub)):\n",
    "                current_max_insertion = current_sub\n",
    "                border_left = i\n",
    "                border_right = j\n"
   ]
  },
  {
   "cell_type": "code",
   "execution_count": null,
   "metadata": {},
   "outputs": [
    {
     "name": "stdout",
     "output_type": "stream",
     "text": [
      "Insertion length: 32100\n",
      "Borders: left - 0; right - 32100\n",
      "Insertion GC: 0.27763239875389406\n"
     ]
    }
   ],
   "source": [
    "print(f'Insertion length: {current_max_insertion.__len__()}')\n",
    "print(f'Borders: left - {border_left}; right - {border_right}')\n",
    "print(f'Insertion GC: {SU.gc_fraction(current_max_insertion)}')"
   ]
  }
 ],
 "metadata": {
  "kernelspec": {
   "display_name": "Python 3",
   "language": "python",
   "name": "python3"
  },
  "language_info": {
   "codemirror_mode": {
    "name": "ipython",
    "version": 3
   },
   "file_extension": ".py",
   "mimetype": "text/x-python",
   "name": "python",
   "nbconvert_exporter": "python",
   "pygments_lexer": "ipython3",
   "version": "3.10.4"
  },
  "orig_nbformat": 4
 },
 "nbformat": 4,
 "nbformat_minor": 2
}
